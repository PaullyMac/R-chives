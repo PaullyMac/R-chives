{
  "nbformat": 4,
  "nbformat_minor": 0,
  "metadata": {
    "colab": {
      "provenance": []
    },
    "kernelspec": {
      "name": "ir",
      "display_name": "R"
    },
    "language_info": {
      "name": "R"
    }
  },
  "cells": [
    {
      "cell_type": "markdown",
      "source": [
        "# **Multiple Choice**"
      ],
      "metadata": {
        "id": "boukDisNTM41"
      }
    },
    {
      "cell_type": "code",
      "execution_count": 1,
      "metadata": {
        "id": "jsXtRSL59zA5",
        "colab": {
          "base_uri": "https://localhost:8080/",
          "height": 327
        },
        "outputId": "32a3db04-bcd8-4789-e903-dbe399b4313f"
      },
      "outputs": [
        {
          "output_type": "display_data",
          "data": {
            "text/html": [
              "<table class=\"dataframe\">\n",
              "<caption>A matrix: 2 × 3 of type dbl</caption>\n",
              "<tbody>\n",
              "\t<tr><th scope=row>x</th><td>1</td><td>2</td><td>3</td></tr>\n",
              "\t<tr><th scope=row>y</th><td>4</td><td>5</td><td>6</td></tr>\n",
              "</tbody>\n",
              "</table>\n"
            ],
            "text/markdown": "\nA matrix: 2 × 3 of type dbl\n\n| x | 1 | 2 | 3 |\n| y | 4 | 5 | 6 |\n\n",
            "text/latex": "A matrix: 2 × 3 of type dbl\n\\begin{tabular}{r|lll}\n\tx & 1 & 2 & 3\\\\\n\ty & 4 & 5 & 6\\\\\n\\end{tabular}\n",
            "text/plain": [
              "  [,1] [,2] [,3]\n",
              "x 1    2    3   \n",
              "y 4    5    6   "
            ]
          },
          "metadata": {}
        },
        {
          "output_type": "display_data",
          "data": {
            "text/html": [
              "<table class=\"dataframe\">\n",
              "<caption>A matrix: 3 × 2 of type dbl</caption>\n",
              "<thead>\n",
              "\t<tr><th scope=col>x</th><th scope=col>y</th></tr>\n",
              "</thead>\n",
              "<tbody>\n",
              "\t<tr><td>1</td><td>4</td></tr>\n",
              "\t<tr><td>2</td><td>5</td></tr>\n",
              "\t<tr><td>3</td><td>6</td></tr>\n",
              "</tbody>\n",
              "</table>\n"
            ],
            "text/markdown": "\nA matrix: 3 × 2 of type dbl\n\n| x | y |\n|---|---|\n| 1 | 4 |\n| 2 | 5 |\n| 3 | 6 |\n\n",
            "text/latex": "A matrix: 3 × 2 of type dbl\n\\begin{tabular}{ll}\n x & y\\\\\n\\hline\n\t 1 & 4\\\\\n\t 2 & 5\\\\\n\t 3 & 6\\\\\n\\end{tabular}\n",
            "text/plain": [
              "     x y\n",
              "[1,] 1 4\n",
              "[2,] 2 5\n",
              "[3,] 3 6"
            ]
          },
          "metadata": {}
        }
      ],
      "source": [
        "# Which function in R is used to combine vectors by rows or columns?\n",
        "# A) bind() --> answer\n",
        "# B) add()\n",
        "# C) c()\n",
        "# D) merge()\n",
        "# https://www.spsanderson.com/steveondata/posts/2024-11-19/\n",
        "x <- c(1, 2, 3)\n",
        "y <- c(4, 5, 6)\n",
        "rbind(x, y)  # Combines x and y as rows\n",
        "cbind(x, y)  # Combines x and y as columns"
      ]
    },
    {
      "cell_type": "code",
      "source": [
        "x + y  # Performs element-wise addition"
      ],
      "metadata": {
        "colab": {
          "base_uri": "https://localhost:8080/",
          "height": 34
        },
        "id": "NFYpaUXkGHzK",
        "outputId": "9695d99a-2a76-4672-ab47-3a8587447e69"
      },
      "execution_count": 2,
      "outputs": [
        {
          "output_type": "display_data",
          "data": {
            "text/html": [
              "<style>\n",
              ".list-inline {list-style: none; margin:0; padding: 0}\n",
              ".list-inline>li {display: inline-block}\n",
              ".list-inline>li:not(:last-child)::after {content: \"\\00b7\"; padding: 0 .5ex}\n",
              "</style>\n",
              "<ol class=list-inline><li>5</li><li>7</li><li>9</li></ol>\n"
            ],
            "text/markdown": "1. 5\n2. 7\n3. 9\n\n\n",
            "text/latex": "\\begin{enumerate*}\n\\item 5\n\\item 7\n\\item 9\n\\end{enumerate*}\n",
            "text/plain": [
              "[1] 5 7 9"
            ]
          },
          "metadata": {}
        }
      ]
    },
    {
      "cell_type": "code",
      "source": [
        "c(x, y)  # Concatenates x and y into a single vector"
      ],
      "metadata": {
        "colab": {
          "base_uri": "https://localhost:8080/",
          "height": 34
        },
        "id": "33xvIGMFGON4",
        "outputId": "dd99e951-45f6-4658-8170-12e35db6d45a"
      },
      "execution_count": 3,
      "outputs": [
        {
          "output_type": "display_data",
          "data": {
            "text/html": [
              "<style>\n",
              ".list-inline {list-style: none; margin:0; padding: 0}\n",
              ".list-inline>li {display: inline-block}\n",
              ".list-inline>li:not(:last-child)::after {content: \"\\00b7\"; padding: 0 .5ex}\n",
              "</style>\n",
              "<ol class=list-inline><li>1</li><li>2</li><li>3</li><li>4</li><li>5</li><li>6</li></ol>\n"
            ],
            "text/markdown": "1. 1\n2. 2\n3. 3\n4. 4\n5. 5\n6. 6\n\n\n",
            "text/latex": "\\begin{enumerate*}\n\\item 1\n\\item 2\n\\item 3\n\\item 4\n\\item 5\n\\item 6\n\\end{enumerate*}\n",
            "text/plain": [
              "[1] 1 2 3 4 5 6"
            ]
          },
          "metadata": {}
        }
      ]
    },
    {
      "cell_type": "code",
      "source": [
        "df1 <- data.frame(id = c(1, 2, 3), value = c(\"a\", \"b\", \"c\"))\n",
        "df2 <- data.frame(id = c(2, 3, 4), value2 = c(\"d\", \"e\", \"f\"))\n",
        "merge(df1, df2, by = \"id\")  # Merges df1 and df2 based on the \"id\" column"
      ],
      "metadata": {
        "colab": {
          "base_uri": "https://localhost:8080/",
          "height": 161
        },
        "id": "SQdkaNARGfJa",
        "outputId": "e26278db-5a27-4f48-b228-1a03f4618fa2"
      },
      "execution_count": 4,
      "outputs": [
        {
          "output_type": "display_data",
          "data": {
            "text/html": [
              "<table class=\"dataframe\">\n",
              "<caption>A data.frame: 2 × 3</caption>\n",
              "<thead>\n",
              "\t<tr><th scope=col>id</th><th scope=col>value</th><th scope=col>value2</th></tr>\n",
              "\t<tr><th scope=col>&lt;dbl&gt;</th><th scope=col>&lt;chr&gt;</th><th scope=col>&lt;chr&gt;</th></tr>\n",
              "</thead>\n",
              "<tbody>\n",
              "\t<tr><td>2</td><td>b</td><td>d</td></tr>\n",
              "\t<tr><td>3</td><td>c</td><td>e</td></tr>\n",
              "</tbody>\n",
              "</table>\n"
            ],
            "text/markdown": "\nA data.frame: 2 × 3\n\n| id &lt;dbl&gt; | value &lt;chr&gt; | value2 &lt;chr&gt; |\n|---|---|---|\n| 2 | b | d |\n| 3 | c | e |\n\n",
            "text/latex": "A data.frame: 2 × 3\n\\begin{tabular}{lll}\n id & value & value2\\\\\n <dbl> & <chr> & <chr>\\\\\n\\hline\n\t 2 & b & d\\\\\n\t 3 & c & e\\\\\n\\end{tabular}\n",
            "text/plain": [
              "  id value value2\n",
              "1 2  b     d     \n",
              "2 3  c     e     "
            ]
          },
          "metadata": {}
        }
      ]
    },
    {
      "cell_type": "code",
      "source": [
        "# What is the correct way to assign the value 10 to a variable named x in R?\n",
        "# A) x <- 10\n",
        "# B) x = 10\n",
        "# C) Both A and B --> answer\n",
        "# D) None of the above"
      ],
      "metadata": {
        "id": "8Evt9Ut1Hm96"
      },
      "execution_count": 5,
      "outputs": []
    },
    {
      "cell_type": "code",
      "source": [
        "x <- 10\n",
        "print(x)\n",
        "x = 10\n",
        "print(x)"
      ],
      "metadata": {
        "colab": {
          "base_uri": "https://localhost:8080/"
        },
        "id": "-XiaF2aeH5Jh",
        "outputId": "7b32d2fb-a58b-4cf3-c545-b7b61c615eb8"
      },
      "execution_count": 6,
      "outputs": [
        {
          "output_type": "stream",
          "name": "stdout",
          "text": [
            "[1] 10\n",
            "[1] 10\n"
          ]
        }
      ]
    },
    {
      "cell_type": "code",
      "source": [
        "# What is a data.frame in R?\n",
        "# A) A list of vectors of the same length\n",
        "# B) A collection of numeric values\n",
        "# C) A single vector\n",
        "# D) A multi-dimensional array"
      ],
      "metadata": {
        "id": "hSb-dc31IJ26"
      },
      "execution_count": 7,
      "outputs": []
    },
    {
      "cell_type": "markdown",
      "source": [
        "**B) A collection of numeric values**\n",
        "\n",
        "While `data.frames` can store numeric values, they are not limited to just numbers. `Data.frames` can contain various data types, including numeric, character, logical, and factors.\n",
        "\n",
        "**C) A single vector**\n",
        "\n",
        "A `data.frame` is more complex than a single vector. It's a structure that holds multiple vectors, organized into rows and columns.\n",
        "\n",
        "**D) A multi-dimensional array**\n",
        "\n",
        "Although a `data.frame` shares some similarities with a multi-dimensional array, it's a distinct data structure in R. Data.frames are more flexible in terms of data types within columns and are specifically designed for tabular data."
      ],
      "metadata": {
        "id": "53fVfZqxIT1g"
      }
    },
    {
      "cell_type": "code",
      "source": [
        "# Create a data frame with three columns: Name, Age, and City\n",
        "valid_df <- data.frame(\n",
        "  Name = c(\"Alice\", \"Bob\", \"Charlie\"),\n",
        "  Age = c(25, 30, 28),\n",
        "  City = c(\"New York\", \"London\", \"Paris\")\n",
        ")\n",
        "\n",
        "# Display the data frame\n",
        "valid_df\n",
        "\n",
        "\n",
        "# Attempt to create a data frame with uneven vector lengths\n",
        "invalid_df <- data.frame(\n",
        "  Name = c(\"Alice\", \"Bob\"),\n",
        "  Age = c(25, 30, 28),\n",
        "  City = c(\"New York\", \"London\", \"Paris\")\n",
        ")\n",
        "\n",
        "# This will result in an error due to unequal vector lengths"
      ],
      "metadata": {
        "colab": {
          "base_uri": "https://localhost:8080/",
          "height": 502
        },
        "id": "0T0Y6NTDI-tO",
        "outputId": "fe695412-91a2-4bbc-cc3e-1acac618ab59"
      },
      "execution_count": 8,
      "outputs": [
        {
          "output_type": "display_data",
          "data": {
            "text/html": [
              "<table class=\"dataframe\">\n",
              "<caption>A data.frame: 3 × 3</caption>\n",
              "<thead>\n",
              "\t<tr><th scope=col>Name</th><th scope=col>Age</th><th scope=col>City</th></tr>\n",
              "\t<tr><th scope=col>&lt;chr&gt;</th><th scope=col>&lt;dbl&gt;</th><th scope=col>&lt;chr&gt;</th></tr>\n",
              "</thead>\n",
              "<tbody>\n",
              "\t<tr><td>Alice  </td><td>25</td><td>New York</td></tr>\n",
              "\t<tr><td>Bob    </td><td>30</td><td>London  </td></tr>\n",
              "\t<tr><td>Charlie</td><td>28</td><td>Paris   </td></tr>\n",
              "</tbody>\n",
              "</table>\n"
            ],
            "text/markdown": "\nA data.frame: 3 × 3\n\n| Name &lt;chr&gt; | Age &lt;dbl&gt; | City &lt;chr&gt; |\n|---|---|---|\n| Alice   | 25 | New York |\n| Bob     | 30 | London   |\n| Charlie | 28 | Paris    |\n\n",
            "text/latex": "A data.frame: 3 × 3\n\\begin{tabular}{lll}\n Name & Age & City\\\\\n <chr> & <dbl> & <chr>\\\\\n\\hline\n\t Alice   & 25 & New York\\\\\n\t Bob     & 30 & London  \\\\\n\t Charlie & 28 & Paris   \\\\\n\\end{tabular}\n",
            "text/plain": [
              "  Name    Age City    \n",
              "1 Alice   25  New York\n",
              "2 Bob     30  London  \n",
              "3 Charlie 28  Paris   "
            ]
          },
          "metadata": {}
        },
        {
          "output_type": "error",
          "ename": "ERROR",
          "evalue": "Error in data.frame(Name = c(\"Alice\", \"Bob\"), Age = c(25, 30, 28), City = c(\"New York\", : arguments imply differing number of rows: 2, 3\n",
          "traceback": [
            "Error in data.frame(Name = c(\"Alice\", \"Bob\"), Age = c(25, 30, 28), City = c(\"New York\", : arguments imply differing number of rows: 2, 3\nTraceback:\n",
            "1. stop(gettextf(\"arguments imply differing number of rows: %s\", \n .     paste(unique(nrows), collapse = \", \")), domain = NA)",
            "2. .handleSimpleError(function (cnd) \n . {\n .     watcher$capture_plot_and_output()\n .     cnd <- sanitize_call(cnd)\n .     watcher$push(cnd)\n .     switch(on_error, continue = invokeRestart(\"eval_continue\"), \n .         stop = invokeRestart(\"eval_stop\"), error = invokeRestart(\"eval_error\", \n .             cnd))\n . }, \"arguments imply differing number of rows: 2, 3\", base::quote(data.frame(Name = c(\"Alice\", \n .     \"Bob\"), Age = c(25, 30, 28), City = c(\"New York\", \"London\", \n .     \"Paris\"))))"
          ]
        }
      ]
    },
    {
      "cell_type": "code",
      "source": [
        "# Which operator is used for modulo in R?\n",
        "# A) *\n",
        "# B) %*%\n",
        "# C) %\n",
        "# D) %% --> answer"
      ],
      "metadata": {
        "id": "_g4tGofwJQCB"
      },
      "execution_count": 9,
      "outputs": []
    },
    {
      "cell_type": "code",
      "source": [
        "x <- 10\n",
        "y <- 3\n",
        "\n",
        "result <- x * y\n",
        "\n",
        "# Print the result\n",
        "print(result)"
      ],
      "metadata": {
        "colab": {
          "base_uri": "https://localhost:8080/"
        },
        "id": "A1Lk2-JzJnJp",
        "outputId": "e916934a-cf85-4ea4-9c29-ae258b68121c"
      },
      "execution_count": 10,
      "outputs": [
        {
          "output_type": "stream",
          "name": "stdout",
          "text": [
            "[1] 30\n"
          ]
        }
      ]
    },
    {
      "cell_type": "code",
      "source": [
        "x <- 10\n",
        "y <- 3\n",
        "\n",
        "result <- x %*% y\n",
        "print(result)"
      ],
      "metadata": {
        "colab": {
          "base_uri": "https://localhost:8080/"
        },
        "id": "zI2-zsQUJzMR",
        "outputId": "f89acf06-d533-48cc-c727-2f53ab6f584e"
      },
      "execution_count": 11,
      "outputs": [
        {
          "output_type": "stream",
          "name": "stdout",
          "text": [
            "     [,1]\n",
            "[1,]   30\n"
          ]
        }
      ]
    },
    {
      "cell_type": "code",
      "source": [
        "x <- 10\n",
        "y <- 3\n",
        "\n",
        "result <- x % y\n",
        "print(result)"
      ],
      "metadata": {
        "colab": {
          "base_uri": "https://localhost:8080/",
          "height": 128
        },
        "id": "kwb8Hm3vJzfJ",
        "outputId": "e2d6bcdf-00ea-463e-e639-d7d7c8a333d6"
      },
      "execution_count": 13,
      "outputs": [
        {
          "output_type": "error",
          "ename": "ERROR",
          "evalue": "Error in parse(text = input): <text>:4:13: unexpected input\n3: \n4: result <- x % y\n               ^\n",
          "traceback": [
            "Error in parse(text = input): <text>:4:13: unexpected input\n3: \n4: result <- x % y\n               ^\nTraceback:\n"
          ]
        }
      ]
    },
    {
      "cell_type": "code",
      "source": [
        "x <- 10\n",
        "y <- 3\n",
        "\n",
        "result <- x %% y  # Calculate the remainder of 10 divided by 3\n",
        "print(result)"
      ],
      "metadata": {
        "colab": {
          "base_uri": "https://localhost:8080/"
        },
        "id": "qOPo6hC3JzyY",
        "outputId": "30d4fb84-2a8c-4e2d-a1b5-4a1b49283bbf"
      },
      "execution_count": 14,
      "outputs": [
        {
          "output_type": "stream",
          "name": "stdout",
          "text": [
            "[1] 1\n"
          ]
        }
      ]
    },
    {
      "cell_type": "markdown",
      "source": [
        "**Which of the following statements is false about the importance of statistical analysis?**\n",
        "\n",
        "- A) Statistical analysis offers valuable insights into patterns, trends, and relationships within datasets.\n",
        "\n",
        "- B) Statistical analysis helps in identifying and handling missing values, outliers, and inconsistencies in the data.\n",
        "\n",
        "- C)  It eliminates the need for additional techniques, such as machine learning, for predictive modeling\n",
        "\n",
        "- D) Statistical optimization techniques based on data-driven insights enhance procedures, increase efficiency, and optimize resource allocation."
      ],
      "metadata": {
        "id": "xcYjAyCZKesh"
      }
    },
    {
      "cell_type": "code",
      "source": [
        "## Answer is C"
      ],
      "metadata": {
        "id": "nlkrTWhqKwJB"
      },
      "execution_count": 15,
      "outputs": []
    },
    {
      "cell_type": "markdown",
      "source": [
        "**Which term best describes the process of collecting, analyzing, and interpreting data to uncover patterns, trends, and insights, often involving mathematical techniques and probability?**\n",
        "\n",
        "- A) Data Mining\n",
        "\n",
        "- B) Statistical Analysis\n",
        "\n",
        "- C) Predictive Modeling\n",
        "\n",
        "- D) Machine Learning"
      ],
      "metadata": {
        "id": "5ouebWxUK6dh"
      }
    },
    {
      "cell_type": "code",
      "source": [
        "## Answer is B"
      ],
      "metadata": {
        "id": "nQpN_xM4LyQI"
      },
      "execution_count": 16,
      "outputs": []
    },
    {
      "cell_type": "code",
      "source": [
        "# What does the apply() function do in R?\n",
        "# A) Splits data into subsets\n",
        "# B) Aggregates data into summaries\n",
        "# C) Applies a function over rows or columns of a matrix or array --> answer\n",
        "# D) Combines datasets"
      ],
      "metadata": {
        "id": "r4r0qeEeMAnh"
      },
      "execution_count": 17,
      "outputs": []
    },
    {
      "cell_type": "code",
      "source": [
        "# Create a sample matrix\n",
        "matrix_data <- matrix(1:9, nrow = 3, ncol = 3)\n",
        "\n",
        "# Define a function to calculate the sum of elements\n",
        "sum_function <- function(x) {\n",
        "  sum(x)\n",
        "}\n",
        "\n",
        "# Apply the function to the rows of the matrix\n",
        "apply(matrix_data, MARGIN = 1, FUN = sum_function)\n",
        "\n",
        "# Apply the function to the columns of the matrix\n",
        "apply(matrix_data, MARGIN = 2, FUN = sum_function)"
      ],
      "metadata": {
        "colab": {
          "base_uri": "https://localhost:8080/",
          "height": 52
        },
        "id": "eqnINTRxMFfZ",
        "outputId": "a8afb410-eafe-427d-ff8d-9cd63de76daf"
      },
      "execution_count": 18,
      "outputs": [
        {
          "output_type": "display_data",
          "data": {
            "text/html": [
              "<style>\n",
              ".list-inline {list-style: none; margin:0; padding: 0}\n",
              ".list-inline>li {display: inline-block}\n",
              ".list-inline>li:not(:last-child)::after {content: \"\\00b7\"; padding: 0 .5ex}\n",
              "</style>\n",
              "<ol class=list-inline><li>12</li><li>15</li><li>18</li></ol>\n"
            ],
            "text/markdown": "1. 12\n2. 15\n3. 18\n\n\n",
            "text/latex": "\\begin{enumerate*}\n\\item 12\n\\item 15\n\\item 18\n\\end{enumerate*}\n",
            "text/plain": [
              "[1] 12 15 18"
            ]
          },
          "metadata": {}
        },
        {
          "output_type": "display_data",
          "data": {
            "text/html": [
              "<style>\n",
              ".list-inline {list-style: none; margin:0; padding: 0}\n",
              ".list-inline>li {display: inline-block}\n",
              ".list-inline>li:not(:last-child)::after {content: \"\\00b7\"; padding: 0 .5ex}\n",
              "</style>\n",
              "<ol class=list-inline><li>6</li><li>15</li><li>24</li></ol>\n"
            ],
            "text/markdown": "1. 6\n2. 15\n3. 24\n\n\n",
            "text/latex": "\\begin{enumerate*}\n\\item 6\n\\item 15\n\\item 24\n\\end{enumerate*}\n",
            "text/plain": [
              "[1]  6 15 24"
            ]
          },
          "metadata": {}
        }
      ]
    },
    {
      "cell_type": "code",
      "source": [
        "# Which function from the dplyr package is used to summarize data after splitting it into groups?\n",
        "# A) group_by()\n",
        "# B) filter()\n",
        "# C) summarize() --> answer\n",
        "# D) mutate()"
      ],
      "metadata": {
        "id": "eio9o6s6NRg7"
      },
      "execution_count": 19,
      "outputs": []
    },
    {
      "cell_type": "code",
      "source": [
        "library(dplyr)"
      ],
      "metadata": {
        "id": "v8m8EfaPOlC6",
        "colab": {
          "base_uri": "https://localhost:8080/"
        },
        "outputId": "1ee20900-a13b-4b93-bdf4-14bd92d53632"
      },
      "execution_count": 20,
      "outputs": [
        {
          "output_type": "stream",
          "name": "stderr",
          "text": [
            "\n",
            "Attaching package: ‘dplyr’\n",
            "\n",
            "\n",
            "The following objects are masked from ‘package:stats’:\n",
            "\n",
            "    filter, lag\n",
            "\n",
            "\n",
            "The following objects are masked from ‘package:base’:\n",
            "\n",
            "    intersect, setdiff, setequal, union\n",
            "\n",
            "\n"
          ]
        }
      ]
    },
    {
      "cell_type": "code",
      "source": [
        "# Sample data\n",
        "data <- data.frame(\n",
        "  group = c(\"A\", \"A\", \"B\", \"B\", \"B\"),\n",
        "  value = c(10, 15, 20, 25, 30)\n",
        ")\n",
        "\n",
        "# Group the data by the 'group' column\n",
        "grouped_data <- data %>%\n",
        "  group_by(group)\n",
        "\n",
        "# View the grouped data (notice the grouping message)\n",
        "grouped_data"
      ],
      "metadata": {
        "colab": {
          "base_uri": "https://localhost:8080/",
          "height": 272
        },
        "id": "dRRBkNU-Ntca",
        "outputId": "f4253a8d-d87b-47e1-a669-761a16502590"
      },
      "execution_count": 22,
      "outputs": [
        {
          "output_type": "display_data",
          "data": {
            "text/html": [
              "<table class=\"dataframe\">\n",
              "<caption>A grouped_df: 5 × 2</caption>\n",
              "<thead>\n",
              "\t<tr><th scope=col>group</th><th scope=col>value</th></tr>\n",
              "\t<tr><th scope=col>&lt;chr&gt;</th><th scope=col>&lt;dbl&gt;</th></tr>\n",
              "</thead>\n",
              "<tbody>\n",
              "\t<tr><td>A</td><td>10</td></tr>\n",
              "\t<tr><td>A</td><td>15</td></tr>\n",
              "\t<tr><td>B</td><td>20</td></tr>\n",
              "\t<tr><td>B</td><td>25</td></tr>\n",
              "\t<tr><td>B</td><td>30</td></tr>\n",
              "</tbody>\n",
              "</table>\n"
            ],
            "text/markdown": "\nA grouped_df: 5 × 2\n\n| group &lt;chr&gt; | value &lt;dbl&gt; |\n|---|---|\n| A | 10 |\n| A | 15 |\n| B | 20 |\n| B | 25 |\n| B | 30 |\n\n",
            "text/latex": "A grouped\\_df: 5 × 2\n\\begin{tabular}{ll}\n group & value\\\\\n <chr> & <dbl>\\\\\n\\hline\n\t A & 10\\\\\n\t A & 15\\\\\n\t B & 20\\\\\n\t B & 25\\\\\n\t B & 30\\\\\n\\end{tabular}\n",
            "text/plain": [
              "  group value\n",
              "1 A     10   \n",
              "2 A     15   \n",
              "3 B     20   \n",
              "4 B     25   \n",
              "5 B     30   "
            ]
          },
          "metadata": {}
        }
      ]
    },
    {
      "cell_type": "code",
      "source": [
        "# Filter rows where 'value' is greater than 20\n",
        "filtered_data <- data %>%\n",
        "  filter(value > 20)\n",
        "\n",
        "# View the filtered data\n",
        "filtered_data"
      ],
      "metadata": {
        "colab": {
          "base_uri": "https://localhost:8080/",
          "height": 178
        },
        "id": "RyyFrbNYOtOz",
        "outputId": "70ceaf5a-010c-4ecd-f6ad-e9dde27b4300"
      },
      "execution_count": 23,
      "outputs": [
        {
          "output_type": "display_data",
          "data": {
            "text/html": [
              "<table class=\"dataframe\">\n",
              "<caption>A data.frame: 2 × 2</caption>\n",
              "<thead>\n",
              "\t<tr><th scope=col>group</th><th scope=col>value</th></tr>\n",
              "\t<tr><th scope=col>&lt;chr&gt;</th><th scope=col>&lt;dbl&gt;</th></tr>\n",
              "</thead>\n",
              "<tbody>\n",
              "\t<tr><td>B</td><td>25</td></tr>\n",
              "\t<tr><td>B</td><td>30</td></tr>\n",
              "</tbody>\n",
              "</table>\n"
            ],
            "text/markdown": "\nA data.frame: 2 × 2\n\n| group &lt;chr&gt; | value &lt;dbl&gt; |\n|---|---|\n| B | 25 |\n| B | 30 |\n\n",
            "text/latex": "A data.frame: 2 × 2\n\\begin{tabular}{ll}\n group & value\\\\\n <chr> & <dbl>\\\\\n\\hline\n\t B & 25\\\\\n\t B & 30\\\\\n\\end{tabular}\n",
            "text/plain": [
              "  group value\n",
              "1 B     25   \n",
              "2 B     30   "
            ]
          },
          "metadata": {}
        }
      ]
    },
    {
      "cell_type": "code",
      "source": [
        "# Calculate the mean 'value' for each group\n",
        "summarized_data <- data %>%\n",
        "  group_by(group) %>%  # Group by 'group'\n",
        "  summarize(mean_value = mean(value))  # Calculate mean for each group\n",
        "\n",
        "# View the summarized data\n",
        "summarized_data"
      ],
      "metadata": {
        "colab": {
          "base_uri": "https://localhost:8080/",
          "height": 161
        },
        "id": "bwtc2Q-LOtgT",
        "outputId": "8e9637be-e108-4960-8db7-afacc94c6091"
      },
      "execution_count": 24,
      "outputs": [
        {
          "output_type": "display_data",
          "data": {
            "text/html": [
              "<table class=\"dataframe\">\n",
              "<caption>A tibble: 2 × 2</caption>\n",
              "<thead>\n",
              "\t<tr><th scope=col>group</th><th scope=col>mean_value</th></tr>\n",
              "\t<tr><th scope=col>&lt;chr&gt;</th><th scope=col>&lt;dbl&gt;</th></tr>\n",
              "</thead>\n",
              "<tbody>\n",
              "\t<tr><td>A</td><td>12.5</td></tr>\n",
              "\t<tr><td>B</td><td>25.0</td></tr>\n",
              "</tbody>\n",
              "</table>\n"
            ],
            "text/markdown": "\nA tibble: 2 × 2\n\n| group &lt;chr&gt; | mean_value &lt;dbl&gt; |\n|---|---|\n| A | 12.5 |\n| B | 25.0 |\n\n",
            "text/latex": "A tibble: 2 × 2\n\\begin{tabular}{ll}\n group & mean\\_value\\\\\n <chr> & <dbl>\\\\\n\\hline\n\t A & 12.5\\\\\n\t B & 25.0\\\\\n\\end{tabular}\n",
            "text/plain": [
              "  group mean_value\n",
              "1 A     12.5      \n",
              "2 B     25.0      "
            ]
          },
          "metadata": {}
        }
      ]
    },
    {
      "cell_type": "code",
      "source": [
        "# Add a new column 'double_value'\n",
        "mutated_data <- data %>%\n",
        "  mutate(double_value = value * 2)\n",
        "\n",
        "# View the mutated data\n",
        "mutated_data"
      ],
      "metadata": {
        "colab": {
          "base_uri": "https://localhost:8080/",
          "height": 255
        },
        "id": "8gTrbihoOtvq",
        "outputId": "423f7295-67d9-4490-9829-04acb4e60299"
      },
      "execution_count": 25,
      "outputs": [
        {
          "output_type": "display_data",
          "data": {
            "text/html": [
              "<table class=\"dataframe\">\n",
              "<caption>A data.frame: 5 × 3</caption>\n",
              "<thead>\n",
              "\t<tr><th scope=col>group</th><th scope=col>value</th><th scope=col>double_value</th></tr>\n",
              "\t<tr><th scope=col>&lt;chr&gt;</th><th scope=col>&lt;dbl&gt;</th><th scope=col>&lt;dbl&gt;</th></tr>\n",
              "</thead>\n",
              "<tbody>\n",
              "\t<tr><td>A</td><td>10</td><td>20</td></tr>\n",
              "\t<tr><td>A</td><td>15</td><td>30</td></tr>\n",
              "\t<tr><td>B</td><td>20</td><td>40</td></tr>\n",
              "\t<tr><td>B</td><td>25</td><td>50</td></tr>\n",
              "\t<tr><td>B</td><td>30</td><td>60</td></tr>\n",
              "</tbody>\n",
              "</table>\n"
            ],
            "text/markdown": "\nA data.frame: 5 × 3\n\n| group &lt;chr&gt; | value &lt;dbl&gt; | double_value &lt;dbl&gt; |\n|---|---|---|\n| A | 10 | 20 |\n| A | 15 | 30 |\n| B | 20 | 40 |\n| B | 25 | 50 |\n| B | 30 | 60 |\n\n",
            "text/latex": "A data.frame: 5 × 3\n\\begin{tabular}{lll}\n group & value & double\\_value\\\\\n <chr> & <dbl> & <dbl>\\\\\n\\hline\n\t A & 10 & 20\\\\\n\t A & 15 & 30\\\\\n\t B & 20 & 40\\\\\n\t B & 25 & 50\\\\\n\t B & 30 & 60\\\\\n\\end{tabular}\n",
            "text/plain": [
              "  group value double_value\n",
              "1 A     10    20          \n",
              "2 A     15    30          \n",
              "3 B     20    40          \n",
              "4 B     25    50          \n",
              "5 B     30    60          "
            ]
          },
          "metadata": {}
        }
      ]
    },
    {
      "cell_type": "code",
      "source": [
        "# Which function in R returns the square root of a number?\n",
        "# A) sqrt() --> answer\n",
        "# B) log()\n",
        "# C) abs()\n",
        "# D) exp()"
      ],
      "metadata": {
        "id": "C3L2AGiIPNKF"
      },
      "execution_count": 26,
      "outputs": []
    },
    {
      "cell_type": "code",
      "source": [
        "# Calculate the square root of 9\n",
        "result <- sqrt(9)\n",
        "print(result)  # Output: 3"
      ],
      "metadata": {
        "colab": {
          "base_uri": "https://localhost:8080/"
        },
        "id": "FliPcfuSPXRy",
        "outputId": "73c631a1-4225-4c6c-8b0e-85c18cc02112"
      },
      "execution_count": 27,
      "outputs": [
        {
          "output_type": "stream",
          "name": "stdout",
          "text": [
            "[1] 3\n"
          ]
        }
      ]
    },
    {
      "cell_type": "code",
      "source": [
        "# Calculate the natural logarithm of 10\n",
        "result <- log(10)\n",
        "print(result)"
      ],
      "metadata": {
        "colab": {
          "base_uri": "https://localhost:8080/"
        },
        "id": "PFitfzxePbxS",
        "outputId": "27f22dbd-7824-424f-a0e7-ce679b2eda32"
      },
      "execution_count": 28,
      "outputs": [
        {
          "output_type": "stream",
          "name": "stdout",
          "text": [
            "[1] 2.302585\n"
          ]
        }
      ]
    },
    {
      "cell_type": "code",
      "source": [
        "# Calculate the absolute value of -5\n",
        "result <- abs(-5)\n",
        "print(result)  # Output: 5"
      ],
      "metadata": {
        "colab": {
          "base_uri": "https://localhost:8080/"
        },
        "id": "wJgh0d84Pcaj",
        "outputId": "4debac6a-aec2-4b27-de92-e19248d97633"
      },
      "execution_count": 29,
      "outputs": [
        {
          "output_type": "stream",
          "name": "stdout",
          "text": [
            "[1] 5\n"
          ]
        }
      ]
    },
    {
      "cell_type": "code",
      "source": [
        "# Calculate the exponential of 2\n",
        "result <- exp(2)\n",
        "print(result)"
      ],
      "metadata": {
        "colab": {
          "base_uri": "https://localhost:8080/"
        },
        "id": "OLy8JWmMPcE8",
        "outputId": "1ea1063b-f6c2-4807-b082-129f65cad912"
      },
      "execution_count": 30,
      "outputs": [
        {
          "output_type": "stream",
          "name": "stdout",
          "text": [
            "[1] 7.389056\n"
          ]
        }
      ]
    },
    {
      "cell_type": "code",
      "source": [
        "# What is the result of the following R expression: 5 %% 2?\n",
        "# A) 2\n",
        "# B) 1 --> answer\n",
        "# C) 0\n",
        "# D) 5"
      ],
      "metadata": {
        "id": "sZWW6mi8PwOM"
      },
      "execution_count": 31,
      "outputs": []
    },
    {
      "cell_type": "code",
      "source": [
        "5%%2"
      ],
      "metadata": {
        "colab": {
          "base_uri": "https://localhost:8080/",
          "height": 34
        },
        "id": "ar5yQYLLQr1V",
        "outputId": "8dfd92f8-b984-4fb8-c9e9-d4ebb779f357"
      },
      "execution_count": 32,
      "outputs": [
        {
          "output_type": "display_data",
          "data": {
            "text/html": [
              "1"
            ],
            "text/markdown": "1",
            "text/latex": "1",
            "text/plain": [
              "[1] 1"
            ]
          },
          "metadata": {}
        }
      ]
    },
    {
      "cell_type": "markdown",
      "source": [
        "# **IDENTIFICATION**"
      ],
      "metadata": {
        "id": "ukDez-kGTDj7"
      }
    },
    {
      "cell_type": "markdown",
      "source": [
        "1.  This function is used in R to fit a linear regression model?\n"
      ],
      "metadata": {
        "id": "ILwveMiHRxtr"
      }
    },
    {
      "cell_type": "code",
      "source": [
        "#Answer: lm()"
      ],
      "metadata": {
        "id": "2VVMMwktTfkz"
      },
      "execution_count": 33,
      "outputs": []
    },
    {
      "cell_type": "markdown",
      "source": [
        "2.   This function provides the low-level data type of an object, such as \"integer\", \"double\", or \"character\".\n",
        "\n"
      ],
      "metadata": {
        "id": "LdzrgtvOR3GC"
      }
    },
    {
      "cell_type": "code",
      "source": [
        "#Answer: typeof()"
      ],
      "metadata": {
        "id": "t6zbWzJ1TrYS"
      },
      "execution_count": 34,
      "outputs": []
    },
    {
      "cell_type": "markdown",
      "source": [
        "3.   This function returns the number of elements in a one-dimensional object or the total number of elements in a multi-dimensional object.\n",
        "\n"
      ],
      "metadata": {
        "id": "xQUgWm4ASBwi"
      }
    },
    {
      "cell_type": "code",
      "source": [
        "#Answer: length()"
      ],
      "metadata": {
        "id": "J__38W38Tv3t"
      },
      "execution_count": 35,
      "outputs": []
    },
    {
      "cell_type": "markdown",
      "source": [
        "4.   This function retrieves metadata associated with an object, such as dimensions, names, or class information. If no metadata exists, it returns NULL.  \n"
      ],
      "metadata": {
        "id": "W0AnenOhSDIN"
      }
    },
    {
      "cell_type": "code",
      "source": [
        "#Answer: attributes()"
      ],
      "metadata": {
        "id": "RswFgROIT1o0"
      },
      "execution_count": 36,
      "outputs": []
    },
    {
      "cell_type": "markdown",
      "source": [
        "5.   This is the most basic data structure in R. It is a one-dimensional, homogenous collection of elements, all of which must be of the same data type (e.g., numeric, character, or logical).\n",
        "\n"
      ],
      "metadata": {
        "id": "pBAp_-bdSDFm"
      }
    },
    {
      "cell_type": "code",
      "source": [
        "#Answer: vector"
      ],
      "metadata": {
        "id": "r0-wO9iyT6MV"
      },
      "execution_count": 37,
      "outputs": []
    },
    {
      "cell_type": "markdown",
      "source": [
        "6.   This data structure in R can hold elements of different data types (e.g., numeric, character, logical). It is essentially a collection of objects that are indexed.\n",
        "\n"
      ],
      "metadata": {
        "id": "vF1iQxv_SDDd"
      }
    },
    {
      "cell_type": "code",
      "source": [
        "#Answer: list"
      ],
      "metadata": {
        "id": "t5T8RPj4Vchb"
      },
      "execution_count": 38,
      "outputs": []
    },
    {
      "cell_type": "markdown",
      "source": [
        "7.   This is a two-dimensional, homogeneous data structure where all elements are of the same data type. It is organized into rows and columns.\n",
        "\n"
      ],
      "metadata": {
        "id": "tjNBEwdJSDBX"
      }
    },
    {
      "cell_type": "code",
      "source": [
        "#Answer: matrix"
      ],
      "metadata": {
        "id": "-4KaKoRpVuqp"
      },
      "execution_count": 39,
      "outputs": []
    },
    {
      "cell_type": "markdown",
      "source": [
        "8.   This two-dimensional data structure is widely used for storing and analyzing datasets. It can hold elements of different data types (e.g., numeric, character, factor) in each column, but all elements in a single column must be of the same type.\n",
        "\n",
        "\n",
        "\n"
      ],
      "metadata": {
        "id": "sGy1_vSISC_P"
      }
    },
    {
      "cell_type": "code",
      "source": [
        "#Answer: data frame"
      ],
      "metadata": {
        "id": "y_uNnKI7aCAn"
      },
      "execution_count": 40,
      "outputs": []
    },
    {
      "cell_type": "markdown",
      "source": [
        "9.   How to get the range of array <- c(10, 20, 5, 15, 25) using R?\n",
        "\n"
      ],
      "metadata": {
        "id": "qvXProBfSC9I"
      }
    },
    {
      "cell_type": "code",
      "source": [
        "#Answer: max(array) - min(array)"
      ],
      "metadata": {
        "id": "Vv70SgL0a3cc"
      },
      "execution_count": 41,
      "outputs": []
    },
    {
      "cell_type": "markdown",
      "source": [
        "10. Complete the R - script\n",
        "\n",
        "x <- c(10, 20, 5, 15, 25, 10, 20, 10)\n",
        "\n",
        "get_mode <- function(x){\n",
        "\n",
        "   uniq <- unique(x)\n",
        "\n",
        "   uniq[_______(tabulate(match(x, uniq)))]\n",
        "\n",
        "}\n",
        "\n",
        "get_mode(x)"
      ],
      "metadata": {
        "id": "tMb61RdOSC6s"
      }
    },
    {
      "cell_type": "code",
      "source": [
        "#Answer: which.max"
      ],
      "metadata": {
        "id": "0xUvmC3WbImw"
      },
      "execution_count": 42,
      "outputs": []
    },
    {
      "cell_type": "code",
      "source": [
        "x <- c(10, 20, 5, 15, 25, 10, 20, 10)\n",
        "\n",
        "get_mode <- function(x){\n",
        "\n",
        "  uniq <- unique(x)\n",
        "\n",
        "  uniq[which.max(tabulate(match(x, uniq)))]\n",
        "\n",
        "}\n",
        "\n",
        "get_mode(x)"
      ],
      "metadata": {
        "colab": {
          "base_uri": "https://localhost:8080/",
          "height": 34
        },
        "id": "0DJi04apbQvF",
        "outputId": "b4d4a3d3-2e70-4ce3-b217-2b174400d438"
      },
      "execution_count": 43,
      "outputs": [
        {
          "output_type": "display_data",
          "data": {
            "text/html": [
              "10"
            ],
            "text/markdown": "10",
            "text/latex": "10",
            "text/plain": [
              "[1] 10"
            ]
          },
          "metadata": {}
        }
      ]
    },
    {
      "cell_type": "markdown",
      "source": [
        "# **ESSAY**"
      ],
      "metadata": {
        "id": "lQN9jJi1fT04"
      }
    },
    {
      "cell_type": "markdown",
      "source": [
        "1. Discuss how splitting, applying transformations, and combining data impact the efficiency and scalability of data analysis in R. Include examples of how these steps contribute to solving real-world problems."
      ],
      "metadata": {
        "id": "XdxrVB0XfZ8h"
      }
    },
    {
      "cell_type": "markdown",
      "source": [
        "The split-apply-combine strategy in R significantly enhances data analysis efficiency and scalability by dividing data into smaller subsets, performing operations on each subset, and merging the results. This approach allows for faster computations, better code organization, and handling large datasets, as seen in calculating group statistics (e.g., average sales per region), cleaning and transforming data (e.g., imputing missing values), and financial modeling (e.g., computing moving averages for different stocks).  This approach enables efficient and scalable data manipulation; hence, the analysts are empowered to solve real-world problems effectively."
      ],
      "metadata": {
        "id": "xCPQOQazfrVo"
      }
    },
    {
      "cell_type": "markdown",
      "source": [
        "2. R is traditionally considered better for small to medium-sized datasets. Discuss strategies and tools available in R (such as `data.table` and `dplyr`) for handling large datasets efficiently."
      ],
      "metadata": {
        "id": "Wkr7BtQkfeGG"
      }
    },
    {
      "cell_type": "markdown",
      "source": [
        "R has long been a go-to tool for analyzing small to medium-sized datasets, offering a rich array of functions for statistical analysis and data manipulation. For instance, base R functions like mean(), median(), and summary() are widely used for descriptive statistics, while lm() is a staple for linear regression analysis. Visualization tools such as plot(), boxplot(), and hist() help uncover patterns and trends in smaller datasets. These functions make it easy to perform quick, in-depth analyses, helping users efficiently extract insights. When combined with packages like dplyr, which provides functions such as filter(), select(), and mutate(), R offers an intuitive, efficient workflow for exploring and transforming data frames with millions of rows.\n",
        "\n",
        "As datasets grow larger, R scales its capabilities with tools like data.table and dplyr, which are optimized for speed and memory efficiency. These packages enhance the performance of common tasks such as grouping data using group_by(), summarizing it with summarize(), or joining datasets with inner_join(). For even larger datasets, R integrates with databases through packages like DBI and RSQLite, allowing users to query data directly without loading everything into memory. Distributed computing tools such as SparkR or sparklyr enable R to handle big data challenges by leveraging cluster computing frameworks. Together, these functions and tools make R a versatile platform, equally adept at small-scale exploratory analysis and large-scale data processing."
      ],
      "metadata": {
        "id": "ruTAp_63frpK"
      }
    },
    {
      "cell_type": "markdown",
      "source": [
        "3.  Explain the concept of linear regression and its purpose in statistical analysis. How does R facilitate the implementation of linear regression models? Discuss the use of the `lm()` function and its key arguments.  "
      ],
      "metadata": {
        "id": "cDS9ZBfafdxH"
      }
    },
    {
      "cell_type": "markdown",
      "source": [
        "Linear regression is a fundamental statistical method used to understand the relationship between two or more variables. It models the dependent variable (Y) as a linear combination of one or more independent variables (X), enabling predictions and insights into how changes in X influence Y. For example, in examining how age impacts lung capacity, linear regression can determine the strength and nature of this relationship. Key outputs from a regression model include the slope (indicating the rate of change in Y per unit change in X), the intercept (value of Y when X is zero), and metrics like R-squared that measure how well the model explains the variation in Y.\n",
        "\n",
        "R makes implementing linear regression straightforward, primarily through the `lm()` function. This function fits a linear model by specifying the formula (`Y ~ X`) and the dataset as its key arguments. Once the model is created, R provides tools like `summary()` for a detailed evaluation of the regression results, including coefficients, p-values, and residual errors. Additionally, functions like `anova()` help perform hypothesis testing, and the use of attributes (e.g., `attributes(mod)`) allows for extracting specific model components like residuals or fitted values. These features make R a powerful tool for performing and interpreting linear regression in data analysis."
      ],
      "metadata": {
        "id": "h-YS9p97fsE-"
      }
    }
  ]
}